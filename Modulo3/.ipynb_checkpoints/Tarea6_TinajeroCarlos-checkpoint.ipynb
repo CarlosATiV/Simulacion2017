{
 "cells": [
  {
   "cell_type": "markdown",
   "metadata": {},
   "source": [
    "# Tarea 6: Programación lineal"
   ]
  },
  {
   "cell_type": "markdown",
   "metadata": {},
   "source": [
    "## PARTE I"
   ]
  },
  {
   "cell_type": "markdown",
   "metadata": {},
   "source": [
    "### Problema\n",
    "\n",
    "Existen tres minas de carbón cuya producción diaria es:\n",
    "\n",
    "- La mina \"a\" produce 40 toneladas de carbón por día;\n",
    "- La mina \"b\" produce 40 t/día; y,\n",
    "- La mina \"c\" produce 20 t/día.\n",
    "\n",
    "En la zona hay dos centrales termoeléctricas que consumen:\n",
    "\n",
    "- La central \"d\" consume 40 t/día de carbón; y,\n",
    "- La central \"e\" consume 60 t/día.\n",
    "\n",
    "Los costos de mercado, de transporte por tonelada son:\n",
    "\n",
    "- De \"a\" a \"d\" = 2 monedas\n",
    "- De \"a\" a \"e\" = 11 monedas\n",
    "- De \"b\" a \"d\" = 12 monedas\n",
    "- De \"b\" a \"e\" = 24 monedas\n",
    "- De \"c\" a \"d\" = 13 monedas\n",
    "- De \"c\" a \"e\" = 18 monedas\n",
    "\n",
    "Formular el problema para decidir cuánto carbón de cada mina se debería enviar a cada central termoeléctrica para gastar lo menos posible, como un problema de programación lineal."
   ]
  },
  {
   "cell_type": "markdown",
   "metadata": {},
   "source": [
    "### Solución\n",
    "\n",
    "Sean:\n",
    "\n",
    "- $x_1$ la cantidad de carbón de la mina \"a\" llevado a la central \"d\".\n",
    "- $x_2$ la cantidad de carbón de la mina \"a\" llevado a la central \"e\".\n",
    "- $x_3$ la cantidad de carbón de la mina \"b\" llevado a la central \"d\".\n",
    "- $x_4$ la cantidad de carbón de la mina \"b\" llevado a la central \"e\".\n",
    "- $x_5$ la cantidad de carbón de la mina \"c\" llevado a la central \"d\".\n",
    "- $x_6$ la cantidad de carbón de la mina \"c\" llevado a la central \"e\".\n",
    "\n",
    "Lo que se quiere es minimizar los costos de $x_1+x_2+x_3+x_4+x_5+x_6$.\n",
    "\n",
    "Restricciones:\n",
    "\n",
    "- La cantidad de carbón de mina \"a\" llevada a centrales \"d\" y \"e\" debe ser menor a 40 ton: $x_1+x_2\\leq 40$\n",
    "- La cantidad de carbón de mina \"b\" llevada a centrales \"d\" y \"e\" debe ser menor a 40 ton: $x_3+x_4\\leq 40$\n",
    "- La cantidad de carbón de mina \"c\" llevada a centrales \"d\" y \"e\" debe ser menor a 20 ton: $x_5+x_6\\leq 20$\n",
    "- La cantidad de carbón que llegue a la central \"d\" debe ser mayor a 40 ton: $-x_1-x_3-x_5\\leq -40$\n",
    "- La cantidad de carbón que llegue a la central \"e\" debe ser mayor a 60 ton: $-x_2-x_4-x_6\\leq -60$\n",
    "\n",
    "El problema puede ser expresado como:\n",
    "\n",
    "\\begin{equation}\n",
    "\\begin{array}{ll}\n",
    "\\min_{x_1,x_2,x_3,x_4,x_5,x_6} & -x_1-x_2-x_3-x_4-x_5-x_6 \\\\\n",
    "\\text{s. a. }  & 0x_1+0x_2+0x_3+0x_4+0x_5+0x_6=0 \\\\\n",
    "               & x_1+x_2\\leq 40 \\\\\n",
    "               & x_3+x_4\\leq 40 \\\\\n",
    "               & x_5+x_6\\leq 20 \\\\\n",
    "               & -x_1-x_3-x_5\\leq -40\\\\\n",
    "               & -x_2-x_4-x_6\\leq -60 \\\\\n",
    "\\end{array}\n",
    "\\end{equation}\n",
    "\n",
    "con\n",
    "- $\\boldsymbol{f}=\\left[-1\\quad -1\\quad -1\\quad -1\\quad -1\\quad -1\\right]^T$,\n",
    "- $\\boldsymbol{A}_{eq}=\\left[0\\quad 0\\quad 0\\quad 0\\quad 0\\quad 0\\right]$,\n",
    "- $\\boldsymbol{A}=\\left[\\begin{array}{cc}1 & 1 & 0 & 0 & 0 & 0 \\\\ 0 & 0 & 1 & 1 & 0 & 0\\\\ 0 & 0 & 0 & 0 & 1 & 1\\\\ -1 & 0 & -1 & 0 & -1 & 0\\\\ 0 & -1 & 0 & -1 & 0 & -1\\end{array}\\right]$,\n",
    "- $\\boldsymbol{b}_{eq}=0$, y\n",
    "- $\\boldsymbol{b}=\\left[40\\quad 40\\quad 20\\quad -40\\quad -60\\right]^T$.\n",
    "\n",
    "O de igual manera:\n",
    "\n",
    "$\\left[\\begin{array}{cc}1 & 1 & 0 & 0 & 0 & 0 \\\\ 0 & 0 & 1 & 1 & 0 & 0\\\\ 0 & 0 & 0 & 0 & 1 & 1\\\\ -1 & 0 & -1 & 0 & -1 & 0\\\\ 0 & -1 & 0 & -1 & 0 & -1\\end{array}\\right]\\leq$ $\\left[\\begin{array}{cc}40 \\\\ 40\\\\ 20\\\\ -40\\\\ -60\\end{array}\\right]$"
   ]
  },
  {
   "cell_type": "markdown",
   "metadata": {},
   "source": [
    "### Matrices en numpy"
   ]
  },
  {
   "cell_type": "code",
   "execution_count": 1,
   "metadata": {
    "collapsed": true
   },
   "outputs": [],
   "source": [
    "import numpy as np"
   ]
  },
  {
   "cell_type": "code",
   "execution_count": 3,
   "metadata": {},
   "outputs": [
    {
     "data": {
      "text/plain": [
       "array([[ 1,  1,  0,  0,  0,  0],\n",
       "       [ 0,  0,  1,  1,  0,  0],\n",
       "       [ 0,  0,  0,  0,  1,  1],\n",
       "       [-1,  0, -1,  0, -1,  0],\n",
       "       [ 0, -1,  0, -1,  0, -1]])"
      ]
     },
     "execution_count": 3,
     "metadata": {},
     "output_type": "execute_result"
    }
   ],
   "source": [
    "mat_A = np.array([[1, 1, 0, 0, 0, 0], \n",
    "                 [0, 0, 1, 1, 0, 0],\n",
    "                 [0, 0, 0, 0, 1, 1],\n",
    "                 [-1, 0, -1, 0, -1, 0],\n",
    "                 [0, -1, 0, -1, 0, -1]])\n",
    "mat_A"
   ]
  },
  {
   "cell_type": "code",
   "execution_count": 4,
   "metadata": {},
   "outputs": [
    {
     "data": {
      "text/plain": [
       "array([[ 40],\n",
       "       [ 40],\n",
       "       [ 20],\n",
       "       [-40],\n",
       "       [-60]])"
      ]
     },
     "execution_count": 4,
     "metadata": {},
     "output_type": "execute_result"
    }
   ],
   "source": [
    "mat_b = np.array([[40], \n",
    "                 [40],\n",
    "                 [20],\n",
    "                 [-40],\n",
    "                 [-60]])\n",
    "mat_b"
   ]
  },
  {
   "cell_type": "markdown",
   "metadata": {},
   "source": [
    "## PARTE II"
   ]
  },
  {
   "cell_type": "markdown",
   "metadata": {},
   "source": [
    "Pantallazo de la instalación del paquete pyomo en Anaconda adjunto en el zip de este archivo."
   ]
  },
  {
   "cell_type": "code",
   "execution_count": null,
   "metadata": {
    "collapsed": true
   },
   "outputs": [],
   "source": []
  }
 ],
 "metadata": {
  "kernelspec": {
   "display_name": "Python 3",
   "language": "python",
   "name": "python3"
  },
  "language_info": {
   "codemirror_mode": {
    "name": "ipython",
    "version": 3
   },
   "file_extension": ".py",
   "mimetype": "text/x-python",
   "name": "python",
   "nbconvert_exporter": "python",
   "pygments_lexer": "ipython3",
   "version": "3.6.2"
  }
 },
 "nbformat": 4,
 "nbformat_minor": 2
}
